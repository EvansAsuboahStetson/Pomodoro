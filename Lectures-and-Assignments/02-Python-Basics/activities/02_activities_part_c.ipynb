{
  "cells": [
    {
      "cell_type": "markdown",
      "metadata": {
        "id": "Fp3NSs7b78ry"
      },
      "source": [
        "# Math  1376: Programming for Data Science\n",
        "---\n",
        "\n",
        "## External activities for 02-Python-basics-lecture-part-c\n",
        "---\n",
        "\n",
        "**Expected time to completion: 1 hour**"
      ]
    },
    {
      "cell_type": "code",
      "execution_count": 2,
      "metadata": {
        "id": "chBCD2Sq78r0"
      },
      "outputs": [],
      "source": [
        "import numpy as np"
      ]
    },
    {
      "cell_type": "markdown",
      "metadata": {
        "id": "7Efhh3cZ78r1"
      },
      "source": [
        "Below we make three arrays, `A`, `B`, and `C`, of different shapes."
      ]
    },
    {
      "cell_type": "code",
      "execution_count": 3,
      "metadata": {
        "id": "YRdR6DB078r2",
        "colab": {
          "base_uri": "https://localhost:8080/",
          "height": 0
        },
        "outputId": "1aad4a5f-3499-4e34-a4d3-790640a39d38"
      },
      "outputs": [
        {
          "output_type": "stream",
          "name": "stdout",
          "text": [
            "[[1 2 3]\n",
            " [4 5 6]] \n",
            "\n",
            " [[1 2]\n",
            " [3 4]\n",
            " [5 6]] \n",
            "\n",
            " [[1 2 3]\n",
            " [4 5 6]\n",
            " [7 8 9]]\n"
          ]
        }
      ],
      "source": [
        "# Creating the arrays (really matrices) used in this activity\n",
        "A = np.reshape(range(1,7),(2,3))  # create a 2x3 array\n",
        "B = np.reshape(range(1,7),(3,2))  # create a 3x2 array \n",
        "C = np.reshape(range(1,10),(3,3))  # create a 3x3 array\n",
        "print(A, '\\n\\n', B, '\\n\\n', C)"
      ]
    },
    {
      "cell_type": "markdown",
      "metadata": {
        "id": "49yxSDsE78r2"
      },
      "source": [
        "---\n",
        "\n",
        "##  <mark>Activity 1: Some practice with array addition and transposes</mark> "
      ]
    },
    {
      "cell_type": "markdown",
      "metadata": {
        "id": "T9bbQRMq78r2"
      },
      "source": [
        "The following operations are undefined because the shapes cannot be [broadcast](https://numpy.org/doc/stable/user/basics.broadcasting.html) together because they do not have compatible shapes: `A+B`, `A+C`, and `B+C`. \n",
        "\n",
        "- In the code cell below, use the `transpose` method in `numpy` to do the following:\n",
        "\n",
        "    - Add the transpose of `A` to `B` and print the result.\n",
        "    \n",
        "    - Add `A` to the transpose of `B` and print the result.\n",
        "    \n",
        "- In the Markdown cell that follows the code cell, explain the differences in results. Also, explain why it is impossible to add any transpose of `A` or `B` to `C`."
      ]
    },
    {
      "cell_type": "code",
      "execution_count": 40,
      "metadata": {
        "id": "1bYy_A1078r3",
        "colab": {
          "base_uri": "https://localhost:8080/",
          "height": 0
        },
        "outputId": "3d2208b8-173c-496b-e92c-3ac31282d6cc"
      },
      "outputs": [
        {
          "output_type": "stream",
          "name": "stdout",
          "text": [
            "[[ 2  6]\n",
            " [ 5  9]\n",
            " [ 8 12]]\n",
            "\n",
            "[[ 2  5  8]\n",
            " [ 6  9 12]]\n",
            "\n"
          ]
        }
      ],
      "source": [
        "\n",
        "arr1  = np.transpose(A)\n",
        "out_arr = np.add(arr1, B)  \n",
        "\n",
        "\n",
        "barr1= np.transpose(B)\n",
        "out_b_arr= np.add(A,barr1)\n",
        "\n",
        "\n",
        "print(out_arr)\n",
        "print(\"\")\n",
        "print(out_b_arr)\n",
        "print(\"\")\n",
        "\n",
        "#The difference is that (A + (Transpose of B ))=  the transpose of ((transpose of A) + B)\n",
        "#"
      ]
    },
    {
      "cell_type": "markdown",
      "metadata": {
        "id": "6A0EC3AS78r3"
      },
      "source": [
        "#A+C or B+C  matrix cannot be defined as the order of matrix A is 2×3 and the order of matrix B is 3X2. So, matrices A and B cannot be added together.\n",
        "\n",
        "#The difference is that (A + (Transpose of B ))=  the transpose of ((transpose of A) + B)\n",
        "#"
      ]
    },
    {
      "cell_type": "markdown",
      "metadata": {
        "id": "3ODmmfIW78r4"
      },
      "source": [
        "End of Activity 1.\n",
        "\n",
        "---"
      ]
    },
    {
      "cell_type": "markdown",
      "metadata": {
        "id": "bI3kreqX78r4"
      },
      "source": [
        "---\n",
        "\n",
        "##  <mark>Activity 2: Some practice with operations and the axis parameter</mark> \n",
        "\n",
        "- In the code cell below, use the `mean` method in `numpy` along with `axis` parameters to do the following:\n",
        "\n",
        "    - Add the array containing the mean of each row of `A` to the array containing the mean of each column of `B` and print the result. (The answer should be `[5., 9.]`)\n",
        "    \n",
        "    - Add the array containing the mean of each column of `A` to the array containing the mean of each row of `B` and print the result.\n",
        "    \n",
        "    - Add the array containing the mean of each column of `A` to the array containing the mean of each row of `C` and print the result.\n",
        "    \n",
        "    - Add the array containing the mean of each row of `B` to the array containing the mean of each row of `C` which is then added to the array containing the mean of each column of `C` and print the result.\n",
        "    \n",
        "- In the Markdown cell that follows the code cell, explain why we cannot add the array containing the mean of each row of `A` to the array containing the mean of each row of `C`."
      ]
    },
    {
      "cell_type": "code",
      "execution_count": 58,
      "metadata": {
        "id": "qoKe0La678r5",
        "colab": {
          "base_uri": "https://localhost:8080/",
          "height": 0
        },
        "outputId": "6621f454-2f05-48b9-88ac-9458777ff9e6"
      },
      "outputs": [
        {
          "output_type": "stream",
          "name": "stdout",
          "text": [
            "[2. 5.]\n",
            "[2. 5. 8.]\n",
            "[5. 9.]\n"
          ]
        }
      ],
      "source": [
        "\n",
        "x=np.mean(A, axis=1)\n",
        "print(x)\n",
        "n= np.mean(C,axis=1)\n",
        "print(n)\n",
        "y=np.mean(B,axis=0)\n",
        "z=x+y\n",
        "print(z)\n",
        "#\n"
      ]
    },
    {
      "cell_type": "code",
      "source": [
        "a= np.mean(A,axis=0)\n",
        "b= np.mean(B,axis=1)\n",
        "z=a+b\n",
        "print(z)"
      ],
      "metadata": {
        "colab": {
          "base_uri": "https://localhost:8080/",
          "height": 0
        },
        "id": "uEyErodrNtss",
        "outputId": "ca8d81b2-9fa8-4184-8532-72d53ed81bf8"
      },
      "execution_count": 55,
      "outputs": [
        {
          "output_type": "stream",
          "name": "stdout",
          "text": [
            "[ 4.  7. 10.]\n"
          ]
        }
      ]
    },
    {
      "cell_type": "code",
      "source": [
        "a= np.mean(A,axis=0)\n",
        "b= np.mean(C,axis=1)\n",
        "\n",
        "z=a+b\n",
        "\n",
        "print(z)"
      ],
      "metadata": {
        "colab": {
          "base_uri": "https://localhost:8080/",
          "height": 0
        },
        "id": "mQJV-gkTOP8b",
        "outputId": "7f770d4e-80e9-4293-d846-11784230c01d"
      },
      "execution_count": 54,
      "outputs": [
        {
          "output_type": "stream",
          "name": "stdout",
          "text": [
            "[ 4.5  8.5 12.5]\n"
          ]
        }
      ]
    },
    {
      "cell_type": "markdown",
      "metadata": {
        "id": "FJOd0YKj78r5"
      },
      "source": [
        "<span style='background:rgba(255,255,0, 0.25); color:black'> Use this Markdown cell to explain why we cannot add the mean of each row of `A` to the mean of each row of `C`. </span>"
      ]
    },
    {
      "cell_type": "code",
      "source": [
        "a= np.mean(B,axis=1)\n",
        "b= np.mean(C,axis=1)\n",
        "z=a+b\n",
        "q= np.mean(C,axis=0)\n",
        "h= q+z\n",
        "print(h)"
      ],
      "metadata": {
        "colab": {
          "base_uri": "https://localhost:8080/",
          "height": 0
        },
        "id": "EKCpsPiXOnRD",
        "outputId": "ab9f8d20-30fd-4663-e0f4-8539b5fe27d0"
      },
      "execution_count": 57,
      "outputs": [
        {
          "output_type": "stream",
          "name": "stdout",
          "text": [
            "[ 7.5 13.5 19.5]\n"
          ]
        }
      ]
    },
    {
      "cell_type": "markdown",
      "metadata": {
        "id": "NlWJ0DAg78r6"
      },
      "source": [
        "#x=np.mean(A, axis=1)\n",
        "print(x)\n",
        "n= np.mean(C,axis=1)\n",
        "print(n)\n"
      ]
    },
    {
      "cell_type": "markdown",
      "metadata": {
        "id": "27sms1ti78r6"
      },
      "source": [
        "---\n",
        "\n",
        "##  <mark>Activity 3: Some practice with transposes and array slicing</mark> \n",
        "\n",
        "\n",
        "- In the code cell below, use array slicing to do the following:\n",
        "\n",
        "    - Add `A` to the first two rows of `C` and print the result.\n",
        "    \n",
        "    - Add the transpose of `A` to the first two columns of `C` and print the result. \n",
        "    \n",
        "    - Add `B` to the last two columns of `C` and print the result.\n",
        "    \n",
        "    - Even though they are not the same shape, add the last column of the transpose of `A` (as a 2D array) to the last two columns of `C` and print the result. *Hint: `[:,-1:]` and `[:,-1]` do not produce the same array shapes. One will produce the desired 2D array shape.*"
      ]
    },
    {
      "cell_type": "code",
      "execution_count": 60,
      "metadata": {
        "id": "OQSJTWFu78r6",
        "colab": {
          "base_uri": "https://localhost:8080/",
          "height": 0
        },
        "outputId": "5304f99a-f9dd-46fa-8fb3-bcca5beb80d5"
      },
      "outputs": [
        {
          "output_type": "stream",
          "name": "stdout",
          "text": [
            "[[ 2  4  6]\n",
            " [ 8 10 12]]\n"
          ]
        }
      ],
      "source": [
        "#arr = np.array([[1, 2, 3, 4, 5], [6, 7, 8, 9, 10]])\n",
        "#print(arr)\n",
        "\n",
        "#print(arr[0:2, 1:4])\n",
        "sum_a = A + C[0:2]\n",
        "print(sum_a)\n"
      ]
    },
    {
      "cell_type": "code",
      "source": [
        "arr1  = np.transpose(A)\n",
        "\n",
        "b = arr1+ C[:, 0:2]\n",
        "print(b)\n"
      ],
      "metadata": {
        "colab": {
          "base_uri": "https://localhost:8080/",
          "height": 0
        },
        "id": "1W1bs2U2Un9E",
        "outputId": "d5339eae-4697-4b5d-82ea-421349ae2692"
      },
      "execution_count": 76,
      "outputs": [
        {
          "output_type": "stream",
          "name": "stdout",
          "text": [
            "[[ 2  6]\n",
            " [ 6 10]\n",
            " [10 14]]\n"
          ]
        }
      ]
    },
    {
      "cell_type": "code",
      "source": [
        "last_two= (C[:,-2::])\n",
        "\n",
        "c= B + last_two\n",
        "print(c)"
      ],
      "metadata": {
        "colab": {
          "base_uri": "https://localhost:8080/",
          "height": 0
        },
        "id": "aSU677SnWJYA",
        "outputId": "f499cdba-12d9-40a4-cf32-cccffd24be69"
      },
      "execution_count": 78,
      "outputs": [
        {
          "output_type": "stream",
          "name": "stdout",
          "text": [
            "[[ 3  5]\n",
            " [ 8 10]\n",
            " [13 15]]\n"
          ]
        }
      ]
    },
    {
      "cell_type": "markdown",
      "source": [],
      "metadata": {
        "id": "yBDZqMjCWJK8"
      }
    },
    {
      "cell_type": "code",
      "source": [
        "arr1  = np.transpose(A)\n",
        "last_column_A=arr1[:,-1:]\n",
        "\n",
        "print(last_column_A+last_two)\n"
      ],
      "metadata": {
        "colab": {
          "base_uri": "https://localhost:8080/",
          "height": 0
        },
        "id": "2XdjGrDcWysV",
        "outputId": "9f5e00a4-fead-4473-de23-30245664cfbd"
      },
      "execution_count": 79,
      "outputs": [
        {
          "output_type": "stream",
          "name": "stdout",
          "text": [
            "[[ 6  7]\n",
            " [10 11]\n",
            " [14 15]]\n"
          ]
        }
      ]
    },
    {
      "cell_type": "code",
      "source": [],
      "metadata": {
        "id": "SS09BM03WyVS"
      },
      "execution_count": null,
      "outputs": []
    },
    {
      "cell_type": "markdown",
      "metadata": {
        "id": "dA55SPmf78r7"
      },
      "source": [
        "End of Activity 3.\n",
        "\n",
        "---"
      ]
    },
    {
      "cell_type": "markdown",
      "source": [],
      "metadata": {
        "id": "hzAD88t-Um_O"
      }
    }
  ],
  "metadata": {
    "kernelspec": {
      "display_name": "Python 3",
      "language": "python",
      "name": "python3"
    },
    "language_info": {
      "codemirror_mode": {
        "name": "ipython",
        "version": 3
      },
      "file_extension": ".py",
      "mimetype": "text/x-python",
      "name": "python",
      "nbconvert_exporter": "python",
      "pygments_lexer": "ipython3",
      "version": "3.8.6"
    },
    "colab": {
      "provenance": [],
      "collapsed_sections": []
    }
  },
  "nbformat": 4,
  "nbformat_minor": 0
}